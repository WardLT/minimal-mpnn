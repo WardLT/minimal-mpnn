{
 "cells": [
  {
   "cell_type": "markdown",
   "id": "electoral-sapphire",
   "metadata": {},
   "source": [
    "# Explain Message Passing Neural Networks\n",
    "A discussed in [our lecture](https://1drv.ms/b/s!AswJEkleh18Ah5QeJTjZ0V8fI0AJ-w?e=gsM2hK) and [Gilmer et al.](https://arxiv.org/abs/1704.01212), neural networks are composed of message passing, update, and readout functions. \n",
    "This notebook will demonstrate how to build these functions using Tensorflow."
   ]
  },
  {
   "cell_type": "code",
   "execution_count": 1,
   "id": "adeafc5b-4dc4-4f23-a780-fbfebbf64a9d",
   "metadata": {
    "tags": []
   },
   "outputs": [
    {
     "name": "stderr",
     "output_type": "stream",
     "text": [
      "2023-08-14 14:10:30.811815: I tensorflow/core/platform/cpu_feature_guard.cc:182] This TensorFlow binary is optimized to use available CPU instructions in performance-critical operations.\n",
      "To enable the following instructions: AVX2 FMA, in other operations, rebuild TensorFlow with the appropriate compiler flags.\n"
     ]
    }
   ],
   "source": [
    "import tensorflow "
   ]
  },
  {
   "cell_type": "code",
   "execution_count": 2,
   "id": "parliamentary-nebraska",
   "metadata": {
    "tags": []
   },
   "outputs": [],
   "source": [
    "%matplotlib inline\n",
    "from matplotlib import pyplot as plt\n",
    "from mpnn.data import make_data_loader\n",
    "from sklearn.metrics import r2_score\n",
    "from tensorflow.keras.models import Model\n",
    "from tensorflow.keras import layers\n",
    "import tensorflow as tf\n",
    "import numpy as np"
   ]
  },
  {
   "cell_type": "markdown",
   "id": "indoor-microwave",
   "metadata": {},
   "source": [
    "## Get a Batch of Data\n",
    "We are going to use same data loader functions from the previous notebooks to create a batch of training examples.\n",
    "\n",
    "These functions are stored in the stripped-down MPNN library, [`mpnn`](./mpnn), I provide with these notebooks"
   ]
  },
  {
   "cell_type": "code",
   "execution_count": 3,
   "id": "korean-uniform",
   "metadata": {
    "tags": []
   },
   "outputs": [
    {
     "name": "stderr",
     "output_type": "stream",
     "text": [
      "2023-08-14 14:10:32.229217: I tensorflow/compiler/xla/stream_executor/cuda/cuda_gpu_executor.cc:995] successful NUMA node read from SysFS had negative value (-1), but there must be at least one NUMA node, so returning NUMA node zero. See more at https://github.com/torvalds/linux/blob/v6.0/Documentation/ABI/testing/sysfs-bus-pci#L344-L355\n",
      "2023-08-14 14:10:32.248348: I tensorflow/compiler/xla/stream_executor/cuda/cuda_gpu_executor.cc:995] successful NUMA node read from SysFS had negative value (-1), but there must be at least one NUMA node, so returning NUMA node zero. See more at https://github.com/torvalds/linux/blob/v6.0/Documentation/ABI/testing/sysfs-bus-pci#L344-L355\n",
      "2023-08-14 14:10:32.248485: I tensorflow/compiler/xla/stream_executor/cuda/cuda_gpu_executor.cc:995] successful NUMA node read from SysFS had negative value (-1), but there must be at least one NUMA node, so returning NUMA node zero. See more at https://github.com/torvalds/linux/blob/v6.0/Documentation/ABI/testing/sysfs-bus-pci#L344-L355\n",
      "2023-08-14 14:10:32.249984: I tensorflow/compiler/xla/stream_executor/cuda/cuda_gpu_executor.cc:995] successful NUMA node read from SysFS had negative value (-1), but there must be at least one NUMA node, so returning NUMA node zero. See more at https://github.com/torvalds/linux/blob/v6.0/Documentation/ABI/testing/sysfs-bus-pci#L344-L355\n",
      "2023-08-14 14:10:32.250088: I tensorflow/compiler/xla/stream_executor/cuda/cuda_gpu_executor.cc:995] successful NUMA node read from SysFS had negative value (-1), but there must be at least one NUMA node, so returning NUMA node zero. See more at https://github.com/torvalds/linux/blob/v6.0/Documentation/ABI/testing/sysfs-bus-pci#L344-L355\n",
      "2023-08-14 14:10:32.250173: I tensorflow/compiler/xla/stream_executor/cuda/cuda_gpu_executor.cc:995] successful NUMA node read from SysFS had negative value (-1), but there must be at least one NUMA node, so returning NUMA node zero. See more at https://github.com/torvalds/linux/blob/v6.0/Documentation/ABI/testing/sysfs-bus-pci#L344-L355\n",
      "2023-08-14 14:10:32.305135: I tensorflow/compiler/xla/stream_executor/cuda/cuda_gpu_executor.cc:995] successful NUMA node read from SysFS had negative value (-1), but there must be at least one NUMA node, so returning NUMA node zero. See more at https://github.com/torvalds/linux/blob/v6.0/Documentation/ABI/testing/sysfs-bus-pci#L344-L355\n",
      "2023-08-14 14:10:32.305258: I tensorflow/compiler/xla/stream_executor/cuda/cuda_gpu_executor.cc:995] successful NUMA node read from SysFS had negative value (-1), but there must be at least one NUMA node, so returning NUMA node zero. See more at https://github.com/torvalds/linux/blob/v6.0/Documentation/ABI/testing/sysfs-bus-pci#L344-L355\n",
      "2023-08-14 14:10:32.305349: I tensorflow/compiler/xla/stream_executor/cuda/cuda_gpu_executor.cc:995] successful NUMA node read from SysFS had negative value (-1), but there must be at least one NUMA node, so returning NUMA node zero. See more at https://github.com/torvalds/linux/blob/v6.0/Documentation/ABI/testing/sysfs-bus-pci#L344-L355\n",
      "2023-08-14 14:10:32.305436: I tensorflow/core/common_runtime/gpu/gpu_device.cc:1639] Created device /job:localhost/replica:0/task:0/device:GPU:0 with 4985 MB memory:  -> device: 0, name: NVIDIA GeForce RTX 3070 Ti, pci bus id: 0000:07:00.0, compute capability: 8.6\n"
     ]
    }
   ],
   "source": [
    "loader = make_data_loader('datasets/train_data.proto', batch_size=32, output_property='g4mp2_atom', shuffle_buffer=10000)"
   ]
  },
  {
   "cell_type": "code",
   "execution_count": 4,
   "id": "central-bachelor",
   "metadata": {
    "tags": []
   },
   "outputs": [
    {
     "name": "stdout",
     "output_type": "stream",
     "text": [
      "Produced a batch with the following tensors: ['atom', 'bond', 'connectivity', 'n_atom', 'n_bond', 'node_graph_indices', 'bond_graph_indices']\n"
     ]
    }
   ],
   "source": [
    "inputs, outputs = next(iter(loader))\n",
    "print(f'Produced a batch with the following tensors: {list(inputs.keys())}')"
   ]
  },
  {
   "cell_type": "markdown",
   "id": "veterinary-michael",
   "metadata": {},
   "source": [
    "## Initial Processing: Embeddings\n",
    "The `atom` and `bond` tensors contain the types of each atom and bond but are not particularly meaningful. "
   ]
  },
  {
   "cell_type": "code",
   "execution_count": 5,
   "id": "wanted-eating",
   "metadata": {
    "tags": []
   },
   "outputs": [
    {
     "data": {
      "text/plain": [
       "<tf.Tensor: shape=(550,), dtype=int64, numpy=\n",
       "array([2, 1, 1, 1, 1, 3, 2, 1, 0, 0, 0, 0, 1, 1, 2, 1, 1, 1, 3, 0, 0, 0,\n",
       "       0, 0, 0, 0, 0, 0, 0, 0, 1, 3, 1, 1, 3, 1, 3, 1, 0, 0, 0, 0, 0, 0,\n",
       "       3, 1, 1, 1, 1, 1, 3, 1, 1, 0, 0, 0, 0, 0, 0, 0, 0, 0, 0, 1, 1, 3,\n",
       "       1, 1, 1, 1, 3, 0, 0, 0, 0, 0, 0, 0, 0, 0, 0, 1, 1, 1, 1, 1, 3, 1,\n",
       "       1, 2, 0, 0, 0, 0, 0, 0, 0, 0, 0, 1, 1, 1, 3, 1, 1, 1, 1, 1, 0, 0,\n",
       "       0, 0, 0, 0, 0, 0, 0, 0, 1, 1, 1, 2, 1, 1, 1, 1, 0, 0, 0, 0, 0, 0,\n",
       "       0, 0, 0, 0, 0, 1, 1, 3, 1, 3, 1, 1, 1, 3, 0, 0, 0, 0, 0, 0, 0, 0,\n",
       "       0, 0, 0, 0, 0, 0, 1, 1, 3, 1, 1, 1, 1, 0, 0, 0, 0, 0, 0, 0, 0, 3,\n",
       "       1, 1, 1, 1, 1, 1, 1, 3, 0, 0, 0, 0, 1, 1, 1, 1, 1, 3, 1, 2, 0, 0,\n",
       "       0, 0, 0, 0, 0, 0, 0, 1, 3, 1, 1, 2, 1, 1, 1, 1, 0, 0, 0, 0, 0, 0,\n",
       "       0, 0, 0, 0, 0, 1, 1, 1, 1, 1, 2, 1, 3, 0, 0, 0, 0, 0, 0, 0, 0, 0,\n",
       "       3, 1, 1, 2, 2, 1, 1, 1, 1, 0, 0, 0, 0, 1, 1, 3, 1, 1, 3, 1, 2, 1,\n",
       "       0, 0, 0, 0, 0, 0, 0, 0, 0, 1, 1, 1, 1, 1, 2, 1, 1, 2, 0, 0, 0, 0,\n",
       "       0, 0, 3, 1, 1, 1, 3, 1, 1, 3, 1, 0, 0, 0, 0, 0, 0, 3, 1, 1, 3, 1,\n",
       "       2, 2, 2, 1, 0, 0, 0, 0, 0, 3, 1, 2, 1, 1, 1, 1, 1, 3, 0, 0, 0, 0,\n",
       "       0, 0, 0, 1, 1, 1, 2, 3, 1, 1, 3, 1, 0, 0, 0, 0, 0, 0, 0, 0, 0, 1,\n",
       "       2, 1, 3, 1, 1, 1, 2, 1, 0, 0, 0, 0, 0, 0, 0, 0, 0, 0, 0, 0, 2, 1,\n",
       "       1, 1, 2, 0, 0, 0, 0, 1, 1, 1, 3, 1, 1, 1, 1, 3, 0, 0, 0, 0, 0, 0,\n",
       "       0, 0, 0, 0, 0, 0, 1, 1, 1, 1, 2, 3, 1, 1, 2, 0, 0, 0, 0, 0, 0, 0,\n",
       "       0, 1, 2, 1, 2, 2, 2, 2, 1, 2, 0, 0, 0, 0, 0, 0, 1, 1, 1, 1, 3, 1,\n",
       "       1, 1, 1, 0, 0, 0, 0, 0, 0, 0, 0, 0, 0, 1, 1, 3, 1, 1, 2, 2, 3, 0,\n",
       "       0, 0, 0, 0, 0, 3, 1, 1, 1, 1, 3, 1, 1, 1, 0, 0, 0, 0, 0, 0, 0, 0,\n",
       "       0, 0, 0, 0, 1, 3, 1, 1, 1, 1, 1, 3, 1, 0, 0, 0, 0, 0, 0, 0, 0, 0,\n",
       "       0, 1, 1, 1, 1, 2, 2, 1, 1, 3, 0, 0, 0, 0, 0, 0, 0, 0, 0, 0, 1, 1,\n",
       "       1, 2, 1, 1, 1, 1, 3, 0, 0, 0, 0, 0, 0, 0, 0, 0, 0, 0, 0, 0, 0, 0])>"
      ]
     },
     "execution_count": 5,
     "metadata": {},
     "output_type": "execute_result"
    }
   ],
   "source": [
    "inputs['atom']"
   ]
  },
  {
   "cell_type": "markdown",
   "id": "cleared-recipient",
   "metadata": {},
   "source": [
    "For example, the person who defined this file format and as a chemist, I know that atom type `1` is a Carbon and some information about how Carbon should behave.\n",
    "The computer only sees discrete categories.\n",
    "Our first step to building the network is to map these categories to features that could represent the data. \n",
    "A quick way to do that is to use [\"embeddings\"](https://towardsdatascience.com/neural-network-embeddings-explained-4d028e6f0526) that enable the machine learning model learn how these categories relate to each other automatically."
   ]
  },
  {
   "cell_type": "code",
   "execution_count": 6,
   "id": "swedish-ladder",
   "metadata": {
    "tags": []
   },
   "outputs": [],
   "source": [
    "atom_embeddings = layers.Embedding(6, 2)  # Defines 6 categories of 2 features each\n",
    "bond_embeddings = layers.Embedding(4, 2)"
   ]
  },
  {
   "cell_type": "markdown",
   "id": "cardiac-cassette",
   "metadata": {},
   "source": [
    "Note how the embedding maps our atom type to a 2 features.\n",
    "\n",
    "Also, note that the the first rows three atoms are the same. These correspond to the same atoms which are all Carbons"
   ]
  },
  {
   "cell_type": "code",
   "execution_count": 7,
   "id": "living-router",
   "metadata": {
    "tags": []
   },
   "outputs": [],
   "source": [
    "atom_features = atom_embeddings(inputs['atom'])\n",
    "bond_features = bond_embeddings(inputs['bond'])"
   ]
  },
  {
   "cell_type": "code",
   "execution_count": 8,
   "id": "limiting-waters",
   "metadata": {
    "tags": []
   },
   "outputs": [
    {
     "data": {
      "text/plain": [
       "array([[-3.9643906e-02,  8.1144273e-05],\n",
       "       [-3.1701852e-02,  1.8164981e-02],\n",
       "       [-3.1701852e-02,  1.8164981e-02],\n",
       "       ...,\n",
       "       [ 3.9830197e-02, -4.6492077e-02],\n",
       "       [ 3.9830197e-02, -4.6492077e-02],\n",
       "       [ 3.9830197e-02, -4.6492077e-02]], dtype=float32)"
      ]
     },
     "execution_count": 8,
     "metadata": {},
     "output_type": "execute_result"
    }
   ],
   "source": [
    "atom_features.numpy()"
   ]
  },
  {
   "cell_type": "markdown",
   "id": "editorial-trader",
   "metadata": {},
   "source": [
    "## Message Passing Steps\n",
    "The core of a message passing network is to update the features describing the atoms, bonds or molecules using knowledge about how they are all connected.\n",
    "\n",
    "We use [\"gathering\"](https://www.tensorflow.org/api_docs/python/tf/gather), [\"reduction\"](https://www.tensorflow.org/api_docs/python/tf/math/reduce_sum) and [\"segmentation\"](https://www.tensorflow.org/api_docs/python/tf/math#Segmentation) functions to express the update functions in Tensorflow.\n",
    "\n",
    "Our first step is to gather all of the features for the atoms and the beginning at end fo the bonds"
   ]
  },
  {
   "cell_type": "code",
   "execution_count": 9,
   "id": "dependent-genealogy",
   "metadata": {
    "tags": []
   },
   "outputs": [
    {
     "name": "stdout",
     "output_type": "stream",
     "text": [
      "Each array is a shape of (1136, 2) because we have 1136 bonds in this batch and 2 features per atom\n"
     ]
    }
   ],
   "source": [
    "# `inputs['connectivity']` is the mapping of which atoms are bonded\n",
    "source_atom = tf.gather(atom_features, inputs['connectivity'][:, 0])\n",
    "target_atom = tf.gather(atom_features, inputs['connectivity'][:, 1])\n",
    "print(f'Each array is a shape of {target_atom.shape} because we have {tf.reduce_sum(inputs[\"n_bond\"])} bonds in this batch and 2 features per atom')"
   ]
  },
  {
   "cell_type": "markdown",
   "id": "hazardous-buyer",
   "metadata": {},
   "source": [
    "When then modify the features describing the \"target\" atom based on the bond by, simply, multiplying the features that describe the atom by the features of the bond"
   ]
  },
  {
   "cell_type": "code",
   "execution_count": 10,
   "id": "removable-shoulder",
   "metadata": {
    "tags": []
   },
   "outputs": [
    {
     "data": {
      "text/plain": [
       "<tf.Tensor: shape=(1136, 2), dtype=float32, numpy=\n",
       "array([[ 7.1985013e-04, -6.4775049e-05],\n",
       "       [ 9.0018939e-04, -2.8935477e-07],\n",
       "       [ 4.8698985e-04,  7.9676084e-04],\n",
       "       ...,\n",
       "       [ 4.8698985e-04,  7.9676084e-04],\n",
       "       [ 4.8698985e-04,  7.9676084e-04],\n",
       "       [ 7.0004974e-04,  2.8597002e-04]], dtype=float32)>"
      ]
     },
     "execution_count": 10,
     "metadata": {},
     "output_type": "execute_result"
    }
   ],
   "source": [
    "all_messages = tf.multiply(bond_features, target_atom)\n",
    "all_messages"
   ]
  },
  {
   "cell_type": "markdown",
   "id": "checked-coffee",
   "metadata": {},
   "source": [
    "This new array is the messages from each each bond for each atom. \n",
    "\n",
    "We map it to a single message per atom using `segment_sum`."
   ]
  },
  {
   "cell_type": "code",
   "execution_count": 11,
   "id": "threaded-cigarette",
   "metadata": {
    "tags": []
   },
   "outputs": [
    {
     "data": {
      "text/plain": [
       "<tf.Tensor: shape=(550, 2), dtype=float32, numpy=\n",
       "array([[ 7.1985013e-04, -6.4775049e-05],\n",
       "       [ 1.3871792e-03,  7.9647149e-04],\n",
       "       [ 1.2438348e-03, -1.7296763e-03],\n",
       "       ...,\n",
       "       [ 4.8698985e-04,  7.9676084e-04],\n",
       "       [ 4.8698985e-04,  7.9676084e-04],\n",
       "       [ 7.0004974e-04,  2.8597002e-04]], dtype=float32)>"
      ]
     },
     "execution_count": 11,
     "metadata": {},
     "output_type": "execute_result"
    }
   ],
   "source": [
    "messages = tf.math.segment_sum(all_messages, inputs['connectivity'][:, 0])\n",
    "messages"
   ]
  },
  {
   "cell_type": "markdown",
   "id": "qualified-reporter",
   "metadata": {},
   "source": [
    "The message matrix now has only 37 rows, which corresponds to the number of atoms.\n",
    "\n",
    "Our final step is to update the features for each atom using these messages"
   ]
  },
  {
   "cell_type": "code",
   "execution_count": 12,
   "id": "small-productivity",
   "metadata": {},
   "outputs": [
    {
     "data": {
      "text/plain": [
       "<tf.Tensor: shape=(550, 2), dtype=float32, numpy=\n",
       "array([[-3.8924057e-02,  1.6369224e-05],\n",
       "       [-3.0314673e-02,  1.8961452e-02],\n",
       "       [-3.0458016e-02,  1.6435305e-02],\n",
       "       ...,\n",
       "       [ 4.0317185e-02, -4.5695316e-02],\n",
       "       [ 4.0317185e-02, -4.5695316e-02],\n",
       "       [ 4.0530246e-02, -4.6206109e-02]], dtype=float32)>"
      ]
     },
     "execution_count": 12,
     "metadata": {},
     "output_type": "execute_result"
    }
   ],
   "source": [
    "atom_features = atom_features + messages\n",
    "atom_features"
   ]
  },
  {
   "cell_type": "markdown",
   "id": "abstract-camping",
   "metadata": {},
   "source": [
    "We now have new features for each atom and note how the first 3 rows are now different. Each atom now has new features because they were each bonded in different ways. "
   ]
  },
  {
   "cell_type": "markdown",
   "id": "thick-employee",
   "metadata": {},
   "source": [
    "## Final Step: Readout\n",
    "Our last step is to take the features for each atom and use them to generate a single prediction per molecule. \n",
    "\n",
    "We use the \"segment_sum\" again, but this time to sum all features for each atom in each molecule rather than each message for each atom. The mapping of which atom belongs to what molecule is stored in `inputs['node_graph_indices']`"
   ]
  },
  {
   "cell_type": "code",
   "execution_count": 13,
   "id": "heard-forum",
   "metadata": {},
   "outputs": [
    {
     "data": {
      "text/plain": [
       "<tf.Tensor: shape=(32, 2), dtype=float32, numpy=\n",
       "array([[-0.12330022, -0.08512788],\n",
       "       [ 0.20064393, -0.4199011 ],\n",
       "       [-0.04889973, -0.16560473],\n",
       "       [ 0.09556329, -0.32166585],\n",
       "       [ 0.12531716, -0.34301788],\n",
       "       [ 0.06029863, -0.28374276],\n",
       "       [ 0.10860047, -0.3117633 ],\n",
       "       [ 0.18382528, -0.38919875],\n",
       "       [ 0.2380191 , -0.5300516 ],\n",
       "       [ 0.09105194, -0.25304687],\n",
       "       [-0.14930196, -0.03971434],\n",
       "       [ 0.08811323, -0.30790773],\n",
       "       [ 0.14113611, -0.37719703],\n",
       "       [ 0.08983947, -0.30458403],\n",
       "       [-0.1474731 , -0.06770811],\n",
       "       [ 0.04736888, -0.293624  ],\n",
       "       [-0.06005651, -0.14531705],\n",
       "       [-0.07673174, -0.14131266],\n",
       "       [-0.13186587, -0.14341354],\n",
       "       [-0.03648572, -0.20290396],\n",
       "       [ 0.04575908, -0.29720995],\n",
       "       [ 0.17298812, -0.4426319 ],\n",
       "       [-0.00969008, -0.13235167],\n",
       "       [ 0.17107397, -0.4211803 ],\n",
       "       [ 0.00339112, -0.25858337],\n",
       "       [-0.09762447, -0.22376896],\n",
       "       [ 0.10849858, -0.3123156 ],\n",
       "       [-0.05453279, -0.19233048],\n",
       "       [ 0.17399997, -0.41872853],\n",
       "       [ 0.09556326, -0.3216659 ],\n",
       "       [ 0.09166144, -0.3493254 ],\n",
       "       [ 0.2980095 , -0.5713224 ]], dtype=float32)>"
      ]
     },
     "execution_count": 13,
     "metadata": {},
     "output_type": "execute_result"
    }
   ],
   "source": [
    "mol_features = tf.math.segment_sum(atom_features, inputs[\"node_graph_indices\"])\n",
    "mol_features"
   ]
  },
  {
   "cell_type": "markdown",
   "id": "fatal-collection",
   "metadata": {},
   "source": [
    "Great! We now have only two features per molecule. To map them to a single predicted value, we use a [Dense layer](https://keras.io/api/layers/core_layers/dense/)."
   ]
  },
  {
   "cell_type": "code",
   "execution_count": 14,
   "id": "sudden-front",
   "metadata": {},
   "outputs": [
    {
     "data": {
      "text/plain": [
       "<tf.Tensor: shape=(32, 1), dtype=float32, numpy=\n",
       "array([[ 0.00860583],\n",
       "       [ 0.09361371],\n",
       "       [ 0.02882135],\n",
       "       [ 0.06803512],\n",
       "       [ 0.07403214],\n",
       "       [ 0.058496  ],\n",
       "       [ 0.06695144],\n",
       "       [ 0.08663299],\n",
       "       [ 0.11720569],\n",
       "       [ 0.05452579],\n",
       "       [-0.00179087],\n",
       "       [ 0.06491245],\n",
       "       [ 0.08161967],\n",
       "       [ 0.06438112],\n",
       "       [ 0.00371966],\n",
       "       [ 0.05958237],\n",
       "       [ 0.02420585],\n",
       "       [ 0.02237932],\n",
       "       [ 0.01929655],\n",
       "       [ 0.03679478],\n",
       "       [ 0.0601716 ],\n",
       "       [ 0.09624486],\n",
       "       [ 0.02489327],\n",
       "       [ 0.09198972],\n",
       "       [ 0.05004757],\n",
       "       [ 0.03694832],\n",
       "       [ 0.06705143],\n",
       "       [ 0.03361549],\n",
       "       [ 0.09170231],\n",
       "       [ 0.06803513],\n",
       "       [ 0.07311872],\n",
       "       [ 0.12895405]], dtype=float32)>"
      ]
     },
     "execution_count": 14,
     "metadata": {},
     "output_type": "execute_result"
    }
   ],
   "source": [
    "output = layers.Dense(1, activation='linear')\n",
    "mol_pred = output(mol_features)\n",
    "mol_pred"
   ]
  },
  {
   "cell_type": "markdown",
   "id": "communist-trustee",
   "metadata": {},
   "source": [
    "We are now down to a single prediction per molecule"
   ]
  },
  {
   "cell_type": "markdown",
   "id": "powerful-folder",
   "metadata": {},
   "source": [
    "## String it all together with Keras\n",
    "The above cells show the computations that form an MPNN, but are not convenient to use. \n",
    "Keras [Layers](https://keras.io/api/layers/) and [Models](https://keras.io/api/models/) allow you to describe the computations and how they are connected to each other.\n",
    "\n",
    "### Building Layers\n",
    "\n",
    "Some of our steps above already using Keras layers (e.g., `Embedding`). Others use base Tensorflow operations, which we must combine to form Layers so that Keras can keep track of the computations for us.\n",
    "\n",
    "We do that by implementing a new \"Layer\" in Keras. As describe in the [Keras docs](https://keras.io/guides/making_new_layers_and_models_via_subclassing/), these layers define the calculations performed for a certain step in network and, in many cases, the weights associated with the calculations. For simplicity, I do not add any training weights."
   ]
  },
  {
   "cell_type": "code",
   "execution_count": 15,
   "id": "regional-namibia",
   "metadata": {},
   "outputs": [],
   "source": [
    "class MessagePassingLayer(layers.Layer):\n",
    "    \"\"\"Perform the message passing step\"\"\"\n",
    "\n",
    "    def call(self, atom_features, bond_features, connectivity):\n",
    "        \"\"\"Perform the message passing steps.\n",
    "        \n",
    "        Takes the atom and bond features with the connectivity as inputs\n",
    "        and produces a new set of atom features.\n",
    "        \"\"\"\n",
    "        # Get the features for the atoms at each side of a bond\n",
    "        source_atom = tf.gather(atom_features, connectivity[:, 0])\n",
    "        target_atom = tf.gather(atom_features, connectivity[:, 1])\n",
    "\n",
    "        # Make messages based on the \"far side\" of the bond and the bond type\n",
    "        all_messages = tf.multiply(bond_features, target_atom)\n",
    "\n",
    "        # Sum them up and add them to the original features\n",
    "        messages = tf.math.segment_sum(all_messages, connectivity[:, 0])\n",
    "        atom_features = atom_features + messages\n",
    "        return atom_features"
   ]
  },
  {
   "cell_type": "markdown",
   "id": "french-penguin",
   "metadata": {},
   "source": [
    "Run it to see how it behaves like our previous collection of 3 different cells!"
   ]
  },
  {
   "cell_type": "code",
   "execution_count": 16,
   "id": "adjusted-sword",
   "metadata": {},
   "outputs": [],
   "source": [
    "mp = MessagePassingLayer()"
   ]
  },
  {
   "cell_type": "code",
   "execution_count": 17,
   "id": "complete-sender",
   "metadata": {},
   "outputs": [
    {
     "data": {
      "text/plain": [
       "<tf.Tensor: shape=(550, 2), dtype=float32, numpy=\n",
       "array([[-3.8235705e-02, -5.1245981e-05],\n",
       "       [-2.8962946e-02,  1.9682286e-02],\n",
       "       [-2.9199850e-02,  1.4863526e-02],\n",
       "       ...,\n",
       "       [ 4.0804740e-02, -4.5029957e-02],\n",
       "       [ 4.0804740e-02, -4.5029957e-02],\n",
       "       [ 4.1232213e-02, -4.5974638e-02]], dtype=float32)>"
      ]
     },
     "execution_count": 17,
     "metadata": {},
     "output_type": "execute_result"
    }
   ],
   "source": [
    "mp(atom_features, bond_features, inputs[\"connectivity\"])"
   ]
  },
  {
   "cell_type": "markdown",
   "id": "billion-swaziland",
   "metadata": {},
   "source": [
    "The other base tensorflow method we need to wrap is `tf.math.segment_sum` when we use it to make the molecule property.\n"
   ]
  },
  {
   "cell_type": "code",
   "execution_count": 18,
   "id": "excess-index",
   "metadata": {},
   "outputs": [],
   "source": [
    "class Readout(layers.Layer):\n",
    "    \"\"\"Convert atomic to molecular features\"\"\"\n",
    "    \n",
    "    def call(self, atom_features, node_graph_indices):\n",
    "        return tf.math.segment_sum(atom_features, node_graph_indices)"
   ]
  },
  {
   "cell_type": "code",
   "execution_count": 19,
   "id": "color-debate",
   "metadata": {},
   "outputs": [
    {
     "data": {
      "text/plain": [
       "<tf.Tensor: shape=(32, 2), dtype=float32, numpy=\n",
       "array([[-0.12330022, -0.08512788],\n",
       "       [ 0.20064393, -0.4199011 ],\n",
       "       [-0.04889973, -0.16560473],\n",
       "       [ 0.09556329, -0.32166585],\n",
       "       [ 0.12531716, -0.34301788],\n",
       "       [ 0.06029863, -0.28374276],\n",
       "       [ 0.10860047, -0.3117633 ],\n",
       "       [ 0.18382528, -0.38919875],\n",
       "       [ 0.2380191 , -0.5300516 ],\n",
       "       [ 0.09105194, -0.25304687],\n",
       "       [-0.14930196, -0.03971434],\n",
       "       [ 0.08811323, -0.30790773],\n",
       "       [ 0.14113611, -0.37719703],\n",
       "       [ 0.08983947, -0.30458403],\n",
       "       [-0.1474731 , -0.06770811],\n",
       "       [ 0.04736888, -0.293624  ],\n",
       "       [-0.06005651, -0.14531705],\n",
       "       [-0.07673174, -0.14131266],\n",
       "       [-0.13186587, -0.14341354],\n",
       "       [-0.03648572, -0.20290396],\n",
       "       [ 0.04575908, -0.29720995],\n",
       "       [ 0.17298812, -0.4426319 ],\n",
       "       [-0.00969008, -0.13235167],\n",
       "       [ 0.17107394, -0.4211803 ],\n",
       "       [ 0.00339112, -0.25858337],\n",
       "       [-0.09762447, -0.22376896],\n",
       "       [ 0.10849858, -0.3123156 ],\n",
       "       [-0.05453279, -0.19233048],\n",
       "       [ 0.17399997, -0.41872853],\n",
       "       [ 0.09556326, -0.3216659 ],\n",
       "       [ 0.09166144, -0.3493254 ],\n",
       "       [ 0.2980095 , -0.5713224 ]], dtype=float32)>"
      ]
     },
     "execution_count": 19,
     "metadata": {},
     "output_type": "execute_result"
    }
   ],
   "source": [
    "r = Readout()\n",
    "r(atom_features, inputs[\"node_graph_indices\"])"
   ]
  },
  {
   "cell_type": "markdown",
   "id": "deluxe-increase",
   "metadata": {},
   "source": [
    "Also just like before!"
   ]
  },
  {
   "cell_type": "markdown",
   "id": "ignored-disney",
   "metadata": {},
   "source": [
    "### Stringing Layers together into a Model\n",
    "The Keras Model lets us define how information flows from one step to another. We are going to make a function to describe how to connect layers using Keras's [functional API](https://keras.io/guides/functional_api/)"
   ]
  },
  {
   "cell_type": "code",
   "execution_count": 20,
   "id": "considered-control",
   "metadata": {
    "tags": []
   },
   "outputs": [],
   "source": [
    "def make_model(num_features: int, num_messages: int):\n",
    "    \"\"\"Build an MPNN\n",
    "    \n",
    "    \n",
    "    Args:\n",
    "        num_features: Number of features to use to describe each atom and bond\n",
    "        num_messages: Number of message passing steps\n",
    "    Returns:\n",
    "        Keras models that generate molecule property\n",
    "    \"\"\"\n",
    "    \n",
    "    # The first step is to define which inputs to expand and their shapes/types\n",
    "    node_graph_indices = layers.Input(shape=(1,), name='node_graph_indices', dtype='int32')\n",
    "    atom_types = layers.Input(shape=(1,), name='atom', dtype='int32')\n",
    "    bond_types = layers.Input(shape=(1,), name='bond', dtype='int32')\n",
    "    connectivity = layers.Input(shape=(2,), name='connectivity', dtype='int32')\n",
    "\n",
    "    # Squeeze the node graph and connectivity matrices\n",
    "    #  Keras makes all input arrays 2D, I find it easier to deal with them as 1D vectors\n",
    "    #  The squeeze operation removes the second dimension, and I use Kera's Lambda layer\n",
    "    #  to quickly wrap a simple Tensorflow function\n",
    "    squeeze = layers.Lambda(tf.squeeze, arguments={'axis': 1}, name='squeeze')\n",
    "    snode_graph_indices = squeeze(node_graph_indices)\n",
    "    satom_types = squeeze(atom_types)\n",
    "    sbond_types = squeeze(bond_types)\n",
    "    \n",
    "    # Generate initial features for each atom and bond using embeddings\n",
    "    atom_features = layers.Embedding(6, num_features, name='atom_embedding')(satom_types)\n",
    "    bond_features = layers.Embedding(4, num_features, name='bond_embedding')(sbond_types)\n",
    "    \n",
    "    # Perform a few message passing steps\n",
    "    message_layer = MessagePassingLayer(name='message_passing')\n",
    "    for _ in range(num_messages):\n",
    "        atom_features = message_layer(atom_features, bond_features, connectivity)\n",
    "        \n",
    "    # Reduce to a single set of features per molecule\n",
    "    mol_features = Readout(name='readout')(atom_features, snode_graph_indices)\n",
    "    \n",
    "    # Create the output layer\n",
    "    output = layers.Dense(1, activation='linear', name='output')(mol_features)\n",
    "    \n",
    "    # Create the models by defining which layers are the inputs and which are the outputs\n",
    "    model = Model(inputs=[node_graph_indices, atom_types, bond_types, connectivity], outputs=output)\n",
    "    return model"
   ]
  },
  {
   "cell_type": "markdown",
   "id": "naughty-bridge",
   "metadata": {},
   "source": [
    "Walk through this summary to make sure you understand it. It should be exactly the workflow that we have earlier."
   ]
  },
  {
   "cell_type": "code",
   "execution_count": 21,
   "id": "previous-phrase",
   "metadata": {
    "tags": []
   },
   "outputs": [
    {
     "name": "stdout",
     "output_type": "stream",
     "text": [
      "Model: \"model\"\n",
      "__________________________________________________________________________________________________\n",
      " Layer (type)                Output Shape                 Param #   Connected to                  \n",
      "==================================================================================================\n",
      " atom (InputLayer)           [(None, 1)]                  0         []                            \n",
      "                                                                                                  \n",
      " bond (InputLayer)           [(None, 1)]                  0         []                            \n",
      "                                                                                                  \n",
      " squeeze (Lambda)            (None,)                      0         ['node_graph_indices[0][0]',  \n",
      "                                                                     'atom[0][0]',                \n",
      "                                                                     'bond[0][0]']                \n",
      "                                                                                                  \n",
      " atom_embedding (Embedding)  (None, 16)                   96        ['squeeze[1][0]']             \n",
      "                                                                                                  \n",
      " bond_embedding (Embedding)  (None, 16)                   64        ['squeeze[2][0]']             \n",
      "                                                                                                  \n",
      " connectivity (InputLayer)   [(None, 2)]                  0         []                            \n",
      "                                                                                                  \n",
      " node_graph_indices (InputL  [(None, 1)]                  0         []                            \n",
      " ayer)                                                                                            \n",
      "                                                                                                  \n",
      " message_passing (MessagePa  (None, 16)                   0         ['atom_embedding[0][0]',      \n",
      " ssingLayer)                                                         'bond_embedding[0][0]',      \n",
      "                                                                     'connectivity[0][0]']        \n",
      "                                                                                                  \n",
      " readout (Readout)           (None, 16)                   0         ['message_passing[0][0]',     \n",
      "                                                                     'squeeze[0][0]']             \n",
      "                                                                                                  \n",
      " output (Dense)              (None, 1)                    17        ['readout[0][0]']             \n",
      "                                                                                                  \n",
      "==================================================================================================\n",
      "Total params: 177 (708.00 Byte)\n",
      "Trainable params: 177 (708.00 Byte)\n",
      "Non-trainable params: 0 (0.00 Byte)\n",
      "__________________________________________________________________________________________________\n"
     ]
    }
   ],
   "source": [
    "model = make_model(16, 1)\n",
    "model.summary()"
   ]
  },
  {
   "cell_type": "markdown",
   "id": "cathedral-child",
   "metadata": {},
   "source": [
    "Train it"
   ]
  },
  {
   "cell_type": "code",
   "execution_count": 22,
   "id": "empty-generation",
   "metadata": {},
   "outputs": [
    {
     "name": "stdout",
     "output_type": "stream",
     "text": [
      "Epoch 1/16\n"
     ]
    },
    {
     "name": "stderr",
     "output_type": "stream",
     "text": [
      "/home/lward/miniconda3/envs/mpnn/lib/python3.8/site-packages/keras/src/engine/functional.py:639: UserWarning: Input dict contained keys ['n_atom', 'n_bond', 'bond_graph_indices'] which did not match any model input. They will be ignored by the model.\n",
      "  inputs = self._flatten_to_reference_inputs(inputs)\n",
      "2023-08-14 14:10:33.273298: I tensorflow/compiler/xla/stream_executor/cuda/cuda_blas.cc:606] TensorFloat-32 will be used for the matrix multiplication. This will only be logged once.\n",
      "2023-08-14 14:10:33.274482: I tensorflow/compiler/xla/service/service.cc:168] XLA service 0x7f1c0d4447c0 initialized for platform CUDA (this does not guarantee that XLA will be used). Devices:\n",
      "2023-08-14 14:10:33.274492: I tensorflow/compiler/xla/service/service.cc:176]   StreamExecutor device (0): NVIDIA GeForce RTX 3070 Ti, Compute Capability 8.6\n",
      "2023-08-14 14:10:33.277226: I tensorflow/compiler/mlir/tensorflow/utils/dump_mlir_util.cc:255] disabling MLIR crash reproducer, set env var `MLIR_CRASH_REPRODUCER_DIRECTORY` to enable.\n",
      "2023-08-14 14:10:33.293927: I tensorflow/compiler/xla/stream_executor/cuda/cuda_dnn.cc:432] Loaded cuDNN version 8903\n",
      "2023-08-14 14:10:33.324325: I tensorflow/tsl/platform/default/subprocess.cc:304] Start cannot spawn child process: No such file or directory\n",
      "2023-08-14 14:10:33.356425: I ./tensorflow/compiler/jit/device_compiler.h:186] Compiled cluster using XLA!  This line is logged at most once for the lifetime of the process.\n"
     ]
    },
    {
     "name": "stdout",
     "output_type": "stream",
     "text": [
      "3298/3298 [==============================] - 6s 2ms/step - loss: 0.0086\n"
     ]
    },
    {
     "name": "stderr",
     "output_type": "stream",
     "text": [
      "2023-08-14 14:10:39.091029: I tensorflow/core/framework/local_rendezvous.cc:405] Local rendezvous recv item cancelled. Key hash: 15893200112292005993\n"
     ]
    },
    {
     "name": "stdout",
     "output_type": "stream",
     "text": [
      "Epoch 2/16\n",
      "3298/3298 [==============================] - 5s 2ms/step - loss: 0.0029\n",
      "Epoch 3/16\n",
      "3298/3298 [==============================] - 6s 2ms/step - loss: 0.0025\n",
      "Epoch 4/16\n",
      "3298/3298 [==============================] - 6s 2ms/step - loss: 0.0022\n",
      "Epoch 5/16\n",
      "3298/3298 [==============================] - 6s 2ms/step - loss: 0.0020\n",
      "Epoch 6/16\n",
      "3298/3298 [==============================] - 6s 2ms/step - loss: 0.0019\n",
      "Epoch 7/16\n",
      "3298/3298 [==============================] - 5s 2ms/step - loss: 0.0018\n",
      "Epoch 8/16\n",
      "3298/3298 [==============================] - 6s 2ms/step - loss: 0.0017\n",
      "Epoch 9/16\n",
      "3298/3298 [==============================] - 6s 2ms/step - loss: 0.0016\n",
      "Epoch 10/16\n",
      "3298/3298 [==============================] - 5s 2ms/step - loss: 0.0015\n",
      "Epoch 11/16\n",
      "3298/3298 [==============================] - 6s 2ms/step - loss: 0.0015\n",
      "Epoch 12/16\n",
      "3298/3298 [==============================] - 6s 2ms/step - loss: 0.0015\n",
      "Epoch 13/16\n",
      "3298/3298 [==============================] - 5s 2ms/step - loss: 0.0015\n",
      "Epoch 14/16\n",
      "3298/3298 [==============================] - 6s 2ms/step - loss: 0.0014\n",
      "Epoch 15/16\n",
      "3298/3298 [==============================] - 5s 2ms/step - loss: 0.0014\n",
      "Epoch 16/16\n",
      "3298/3298 [==============================] - 6s 2ms/step - loss: 0.0014\n"
     ]
    },
    {
     "data": {
      "text/plain": [
       "<keras.src.callbacks.History at 0x7f1d5c2d2100>"
      ]
     },
     "execution_count": 22,
     "metadata": {},
     "output_type": "execute_result"
    }
   ],
   "source": [
    "model.compile(loss='mean_squared_error')\n",
    "model.fit(loader, epochs=16)"
   ]
  },
  {
   "cell_type": "markdown",
   "id": "reasonable-surname",
   "metadata": {},
   "source": [
    "See how we did"
   ]
  },
  {
   "cell_type": "code",
   "execution_count": 23,
   "id": "6f24f9a8-0190-42e9-a9ab-298d8f75696b",
   "metadata": {
    "tags": []
   },
   "outputs": [],
   "source": [
    "test_loader = make_data_loader('datasets/test_data.proto', batch_size=32, output_property='u0_atom')"
   ]
  },
  {
   "cell_type": "code",
   "execution_count": 24,
   "id": "integral-israel",
   "metadata": {},
   "outputs": [],
   "source": [
    "y_true = np.hstack([x[1] for x in test_loader])  # Pulls data out of the data loader"
   ]
  },
  {
   "cell_type": "code",
   "execution_count": 25,
   "id": "exempt-powder",
   "metadata": {},
   "outputs": [
    {
     "name": "stdout",
     "output_type": "stream",
     "text": [
      "408/408 [==============================] - 0s 770us/step\n"
     ]
    },
    {
     "name": "stderr",
     "output_type": "stream",
     "text": [
      "2023-08-14 14:12:05.410828: I tensorflow/core/framework/local_rendezvous.cc:405] Local rendezvous recv item cancelled. Key hash: 2225255850102577154\n",
      "2023-08-14 14:12:05.410861: I tensorflow/core/framework/local_rendezvous.cc:405] Local rendezvous recv item cancelled. Key hash: 14549232867045753298\n",
      "2023-08-14 14:12:05.410873: I tensorflow/core/framework/local_rendezvous.cc:405] Local rendezvous recv item cancelled. Key hash: 17509296337134286270\n"
     ]
    }
   ],
   "source": [
    "y_pred = model.predict(test_loader)"
   ]
  },
  {
   "cell_type": "code",
   "execution_count": 26,
   "id": "hollow-retreat",
   "metadata": {},
   "outputs": [
    {
     "data": {
      "text/plain": [
       "Text(0, 0.5, '$E_{atom}$, ML (Ha)')"
      ]
     },
     "execution_count": 26,
     "metadata": {},
     "output_type": "execute_result"
    },
    {
     "data": {
      "image/png": "[encoded data removed]",
      "text/plain": [
       "<Figure size 300x300 with 1 Axes>"
      ]
     },
     "metadata": {},
     "output_type": "display_data"
    }
   ],
   "source": [
    "fig, ax = plt.subplots(figsize=(3, 3))\n",
    "ax.scatter(y_pred, y_true, s=1)\n",
    "ax.set_xlabel('$E_{atom}$, DFT (Ha)')\n",
    "ax.set_ylabel('$E_{atom}$, ML (Ha)')"
   ]
  },
  {
   "cell_type": "markdown",
   "id": "endless-niagara",
   "metadata": {},
   "source": [
    "Not bad for a model with 177 parameters!"
   ]
  },
  {
   "cell_type": "code",
   "execution_count": 27,
   "id": "e44d3588-5201-4dc5-a2b0-9d4ca9a4978f",
   "metadata": {
    "tags": []
   },
   "outputs": [
    {
     "data": {
      "text/plain": [
       "0.9925378191660429"
      ]
     },
     "execution_count": 27,
     "metadata": {},
     "output_type": "execute_result"
    }
   ],
   "source": [
    "r2_score(y_true, y_pred)"
   ]
  },
  {
   "cell_type": "code",
   "execution_count": 28,
   "id": "c44e08ba-5fec-4a20-bcf8-088492d68893",
   "metadata": {
    "tags": []
   },
   "outputs": [
    {
     "data": {
      "text/plain": [
       "0.42275015"
      ]
     },
     "execution_count": 28,
     "metadata": {},
     "output_type": "execute_result"
    }
   ],
   "source": [
    "np.abs(y_true - y_pred).mean()"
   ]
  },
  {
   "cell_type": "code",
   "execution_count": null,
   "id": "8f9ec188-71a1-4d0e-9c1a-08b9c67d30ed",
   "metadata": {},
   "outputs": [],
   "source": []
  }
 ],
 "metadata": {
  "kernelspec": {
   "display_name": "Python 3 (ipykernel)",
   "language": "python",
   "name": "python3"
  },
  "language_info": {
   "codemirror_mode": {
    "name": "ipython",
    "version": 3
   },
   "file_extension": ".py",
   "mimetype": "text/x-python",
   "name": "python",
   "nbconvert_exporter": "python",
   "pygments_lexer": "ipython3",
   "version": "3.8.16"
  }
 },
 "nbformat": 4,
 "nbformat_minor": 5
}
