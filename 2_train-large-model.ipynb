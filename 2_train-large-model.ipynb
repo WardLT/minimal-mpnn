{
 "cells": [
  {
   "cell_type": "markdown",
   "id": "major-thriller",
   "metadata": {},
   "source": [
    "# Compare MPNNs for Bandgap and Atomization Energy\n",
    "Show the effect of adding layers and rollout choice for two different properties"
   ]
  },
  {
   "cell_type": "code",
   "execution_count": 1,
   "id": "permanent-evolution",
   "metadata": {
    "tags": []
   },
   "outputs": [
    {
     "name": "stderr",
     "output_type": "stream",
     "text": [
      "2023-08-14 13:31:54.036783: I tensorflow/core/platform/cpu_feature_guard.cc:182] This TensorFlow binary is optimized to use available CPU instructions in performance-critical operations.\n",
      "To enable the following instructions: AVX2 FMA, in other operations, rebuild TensorFlow with the appropriate compiler flags.\n"
     ]
    }
   ],
   "source": [
    "%matplotlib inline\n",
    "from matplotlib import pyplot as plt\n",
    "from tensorflow.keras.models import Model\n",
    "from tensorflow.keras import layers, callbacks\n",
    "import tensorflow as tf\n",
    "from mpnn.layers import MessagePassingLayer, Readout, Squeeze, Scaling\n",
    "from mpnn.data import make_data_loader\n",
    "from tqdm import tqdm\n",
    "import pandas as pd\n",
    "import numpy as np"
   ]
  },
  {
   "cell_type": "markdown",
   "id": "74763027-4cb2-4ac4-bb9a-f55eae0eee77",
   "metadata": {},
   "source": [
    "Configuration"
   ]
  },
  {
   "cell_type": "code",
   "execution_count": 2,
   "id": "a5d04b5a-5542-4b19-ad00-246d35359b42",
   "metadata": {},
   "outputs": [],
   "source": [
    "prop = 'g4mp2_atom'"
   ]
  },
  {
   "cell_type": "markdown",
   "id": "green-perspective",
   "metadata": {},
   "source": [
    "## Make data loaders\n",
    "We need one for the training, validation and test sets. These will use the atomization energy for now"
   ]
  },
  {
   "cell_type": "code",
   "execution_count": 3,
   "id": "metallic-quality",
   "metadata": {
    "tags": []
   },
   "outputs": [
    {
     "name": "stderr",
     "output_type": "stream",
     "text": [
      "2023-08-14 13:31:55.743695: I tensorflow/compiler/xla/stream_executor/cuda/cuda_gpu_executor.cc:995] successful NUMA node read from SysFS had negative value (-1), but there must be at least one NUMA node, so returning NUMA node zero. See more at https://github.com/torvalds/linux/blob/v6.0/Documentation/ABI/testing/sysfs-bus-pci#L344-L355\n",
      "2023-08-14 13:31:55.827106: I tensorflow/compiler/xla/stream_executor/cuda/cuda_gpu_executor.cc:995] successful NUMA node read from SysFS had negative value (-1), but there must be at least one NUMA node, so returning NUMA node zero. See more at https://github.com/torvalds/linux/blob/v6.0/Documentation/ABI/testing/sysfs-bus-pci#L344-L355\n",
      "2023-08-14 13:31:55.827275: I tensorflow/compiler/xla/stream_executor/cuda/cuda_gpu_executor.cc:995] successful NUMA node read from SysFS had negative value (-1), but there must be at least one NUMA node, so returning NUMA node zero. See more at https://github.com/torvalds/linux/blob/v6.0/Documentation/ABI/testing/sysfs-bus-pci#L344-L355\n",
      "2023-08-14 13:31:55.828589: I tensorflow/compiler/xla/stream_executor/cuda/cuda_gpu_executor.cc:995] successful NUMA node read from SysFS had negative value (-1), but there must be at least one NUMA node, so returning NUMA node zero. See more at https://github.com/torvalds/linux/blob/v6.0/Documentation/ABI/testing/sysfs-bus-pci#L344-L355\n",
      "2023-08-14 13:31:55.828698: I tensorflow/compiler/xla/stream_executor/cuda/cuda_gpu_executor.cc:995] successful NUMA node read from SysFS had negative value (-1), but there must be at least one NUMA node, so returning NUMA node zero. See more at https://github.com/torvalds/linux/blob/v6.0/Documentation/ABI/testing/sysfs-bus-pci#L344-L355\n",
      "2023-08-14 13:31:55.828785: I tensorflow/compiler/xla/stream_executor/cuda/cuda_gpu_executor.cc:995] successful NUMA node read from SysFS had negative value (-1), but there must be at least one NUMA node, so returning NUMA node zero. See more at https://github.com/torvalds/linux/blob/v6.0/Documentation/ABI/testing/sysfs-bus-pci#L344-L355\n",
      "2023-08-14 13:31:55.886035: I tensorflow/compiler/xla/stream_executor/cuda/cuda_gpu_executor.cc:995] successful NUMA node read from SysFS had negative value (-1), but there must be at least one NUMA node, so returning NUMA node zero. See more at https://github.com/torvalds/linux/blob/v6.0/Documentation/ABI/testing/sysfs-bus-pci#L344-L355\n",
      "2023-08-14 13:31:55.886156: I tensorflow/compiler/xla/stream_executor/cuda/cuda_gpu_executor.cc:995] successful NUMA node read from SysFS had negative value (-1), but there must be at least one NUMA node, so returning NUMA node zero. See more at https://github.com/torvalds/linux/blob/v6.0/Documentation/ABI/testing/sysfs-bus-pci#L344-L355\n",
      "2023-08-14 13:31:55.886250: I tensorflow/compiler/xla/stream_executor/cuda/cuda_gpu_executor.cc:995] successful NUMA node read from SysFS had negative value (-1), but there must be at least one NUMA node, so returning NUMA node zero. See more at https://github.com/torvalds/linux/blob/v6.0/Documentation/ABI/testing/sysfs-bus-pci#L344-L355\n",
      "2023-08-14 13:31:55.886337: I tensorflow/core/common_runtime/gpu/gpu_device.cc:1639] Created device /job:localhost/replica:0/task:0/device:GPU:0 with 1158 MB memory:  -> device: 0, name: NVIDIA GeForce RTX 3070 Ti, pci bus id: 0000:07:00.0, compute capability: 8.6\n"
     ]
    }
   ],
   "source": [
    "train_loader = make_data_loader('datasets/train_data.proto', batch_size=32, output_property=prop, shuffle_buffer=8192)"
   ]
  },
  {
   "cell_type": "code",
   "execution_count": 4,
   "id": "tropical-contribution",
   "metadata": {
    "tags": []
   },
   "outputs": [],
   "source": [
    "valid_loader = make_data_loader('datasets/valid_data.proto', output_property=prop, batch_size=32)"
   ]
  },
  {
   "cell_type": "code",
   "execution_count": 5,
   "id": "wireless-percentage",
   "metadata": {
    "tags": []
   },
   "outputs": [],
   "source": [
    "test_loader = make_data_loader('datasets/test_data.proto', batch_size=32, output_property=prop)"
   ]
  },
  {
   "cell_type": "markdown",
   "id": "beginning-variety",
   "metadata": {},
   "source": [
    "# Make a function to build models\n",
    "This will make experimentation easier later"
   ]
  },
  {
   "cell_type": "code",
   "execution_count": 6,
   "id": "organizational-traveler",
   "metadata": {
    "tags": []
   },
   "outputs": [],
   "source": [
    "def make_model(num_features: int, num_messages: int, readout_type: str = 'sum'):\n",
    "    \"\"\"Build an MPNN\n",
    "    \n",
    "    Args:\n",
    "        num_features: Number of features to use to describe each atom and bond\n",
    "        num_messages: Number of message passing steps\n",
    "        readout_type: Function sued for the readout\n",
    "    Returns:\n",
    "        Keras models that generate molecule property\n",
    "    \"\"\"\n",
    "    \n",
    "    # The first step is to define which inputs to expand and their shapes/types\n",
    "    node_graph_indices = layers.Input(shape=(1,), name='node_graph_indices', dtype='int32')\n",
    "    atom_types = layers.Input(shape=(1,), name='atom', dtype='int32')\n",
    "    bond_types = layers.Input(shape=(1,), name='bond', dtype='int32')\n",
    "    connectivity = layers.Input(shape=(2,), name='connectivity', dtype='int32')\n",
    "\n",
    "    # Squeeze the node graph and connectivity matrices\n",
    "    #  Keras makes all input arrays 2D, I find it easier to deal with them as 1D vectors\n",
    "    #  The squeeze operation removes the second dimension, and I use Kera's Lambda layer\n",
    "    #  to quickly wrap a simple Tensorflow function\n",
    "    squeeze = layers.Lambda(tf.squeeze, arguments={'axis': 1}, name='squeeze')\n",
    "    snode_graph_indices = squeeze(node_graph_indices)\n",
    "    satom_types = squeeze(atom_types)\n",
    "    sbond_types = squeeze(bond_types)\n",
    "    \n",
    "    # Generate initial features for each atom and bond using embeddings\n",
    "    atom_features = layers.Embedding(6, num_features, name='atom_embedding')(satom_types)\n",
    "    bond_features = layers.Embedding(4, num_features, name='bond_embedding')(sbond_types)\n",
    "    \n",
    "    # Perform a few message passing steps\n",
    "    message_layer = MessagePassingLayer(name='message_passing')\n",
    "    for _ in range(num_messages):\n",
    "        atom_features = message_layer(atom_features, bond_features, connectivity)\n",
    "        \n",
    "    # Reduce to a single set of features per molecule\n",
    "    mol_features = Readout(readout_type, name='readout')(atom_features, snode_graph_indices)\n",
    "    \n",
    "    # Dense layer\n",
    "    dense = layers.Dense(32, activation='relu', name='dense')(mol_features)\n",
    "    \n",
    "    # Create the output layer\n",
    "    output = layers.Dense(1, activation='linear', name='output')(dense)\n",
    "    \n",
    "    # Scaling layer\n",
    "    scale = Scaling(name='scaling')\n",
    "    output = scale(output)\n",
    "    \n",
    "    # Create the models by defining which layers are the inputs and which are the outputs\n",
    "    model = Model(inputs=[node_graph_indices, atom_types, bond_types, connectivity], outputs=output)\n",
    "    return model"
   ]
  },
  {
   "cell_type": "code",
   "execution_count": 7,
   "id": "sustained-chicago",
   "metadata": {
    "tags": []
   },
   "outputs": [],
   "source": [
    "model = make_model(64, 2)"
   ]
  },
  {
   "cell_type": "code",
   "execution_count": 8,
   "id": "brilliant-hawaiian",
   "metadata": {
    "tags": []
   },
   "outputs": [
    {
     "name": "stdout",
     "output_type": "stream",
     "text": [
      "Model: \"model\"\n",
      "__________________________________________________________________________________________________\n",
      " Layer (type)                Output Shape                 Param #   Connected to                  \n",
      "==================================================================================================\n",
      " atom (InputLayer)           [(None, 1)]                  0         []                            \n",
      "                                                                                                  \n",
      " bond (InputLayer)           [(None, 1)]                  0         []                            \n",
      "                                                                                                  \n",
      " squeeze (Lambda)            (None,)                      0         ['node_graph_indices[0][0]',  \n",
      "                                                                     'atom[0][0]',                \n",
      "                                                                     'bond[0][0]']                \n",
      "                                                                                                  \n",
      " atom_embedding (Embedding)  (None, 64)                   384       ['squeeze[1][0]']             \n",
      "                                                                                                  \n",
      " bond_embedding (Embedding)  (None, 64)                   256       ['squeeze[2][0]']             \n",
      "                                                                                                  \n",
      " connectivity (InputLayer)   [(None, 2)]                  0         []                            \n",
      "                                                                                                  \n",
      " message_passing (MessagePa  (None, 64)                   0         ['atom_embedding[0][0]',      \n",
      " ssingLayer)                                                         'bond_embedding[0][0]',      \n",
      "                                                                     'connectivity[0][0]',        \n",
      "                                                                     'message_passing[0][0]',     \n",
      "                                                                     'bond_embedding[0][0]',      \n",
      "                                                                     'connectivity[0][0]']        \n",
      "                                                                                                  \n",
      " node_graph_indices (InputL  [(None, 1)]                  0         []                            \n",
      " ayer)                                                                                            \n",
      "                                                                                                  \n",
      " readout (Readout)           (None, 64)                   0         ['message_passing[1][0]',     \n",
      "                                                                     'squeeze[0][0]']             \n",
      "                                                                                                  \n",
      " dense (Dense)               (None, 32)                   2080      ['readout[0][0]']             \n",
      "                                                                                                  \n",
      " output (Dense)              (None, 1)                    33        ['dense[0][0]']               \n",
      "                                                                                                  \n",
      " scaling (Scaling)           (None, 1)                    2         ['output[0][0]']              \n",
      "                                                                                                  \n",
      "==================================================================================================\n",
      "Total params: 2755 (10.76 KB)\n",
      "Trainable params: 2755 (10.76 KB)\n",
      "Non-trainable params: 0 (0.00 Byte)\n",
      "__________________________________________________________________________________________________\n"
     ]
    }
   ],
   "source": [
    "model.summary()"
   ]
  },
  {
   "cell_type": "markdown",
   "id": "compressed-howard",
   "metadata": {},
   "source": [
    "Set the value of scaling layer"
   ]
  },
  {
   "cell_type": "code",
   "execution_count": 9,
   "id": "threaded-bidder",
   "metadata": {
    "tags": []
   },
   "outputs": [],
   "source": [
    "_, outputs = next(iter(train_loader))"
   ]
  },
  {
   "cell_type": "code",
   "execution_count": 10,
   "id": "lonely-institution",
   "metadata": {
    "tags": []
   },
   "outputs": [],
   "source": [
    "scale = model.get_layer('scaling')\n",
    "scale.mean = outputs.numpy().mean()\n",
    "scale.std = outputs.numpy().std()"
   ]
  },
  {
   "cell_type": "markdown",
   "id": "abandoned-bones",
   "metadata": {},
   "source": [
    "Fit using early stopping"
   ]
  },
  {
   "cell_type": "code",
   "execution_count": 11,
   "id": "touched-poverty",
   "metadata": {},
   "outputs": [],
   "source": [
    "cbs = [callbacks.EarlyStopping(patience=8, restore_best_weights=True)]"
   ]
  },
  {
   "cell_type": "code",
   "execution_count": 12,
   "id": "frozen-processing",
   "metadata": {},
   "outputs": [
    {
     "name": "stdout",
     "output_type": "stream",
     "text": [
      "Epoch 1/128\n"
     ]
    },
    {
     "name": "stderr",
     "output_type": "stream",
     "text": [
      "/home/lward/miniconda3/envs/mpnn/lib/python3.8/site-packages/keras/src/engine/functional.py:639: UserWarning: Input dict contained keys ['n_atom', 'n_bond', 'bond_graph_indices'] which did not match any model input. They will be ignored by the model.\n",
      "  inputs = self._flatten_to_reference_inputs(inputs)\n",
      "2023-08-14 13:31:57.139977: I tensorflow/compiler/xla/stream_executor/cuda/cuda_blas.cc:606] TensorFloat-32 will be used for the matrix multiplication. This will only be logged once.\n",
      "2023-08-14 13:31:57.165712: I tensorflow/compiler/xla/service/service.cc:168] XLA service 0x7fa284e60a00 initialized for platform CUDA (this does not guarantee that XLA will be used). Devices:\n",
      "2023-08-14 13:31:57.165728: I tensorflow/compiler/xla/service/service.cc:176]   StreamExecutor device (0): NVIDIA GeForce RTX 3070 Ti, Compute Capability 8.6\n",
      "2023-08-14 13:31:57.185110: I tensorflow/compiler/mlir/tensorflow/utils/dump_mlir_util.cc:255] disabling MLIR crash reproducer, set env var `MLIR_CRASH_REPRODUCER_DIRECTORY` to enable.\n",
      "2023-08-14 13:31:57.233326: I tensorflow/compiler/xla/stream_executor/cuda/cuda_dnn.cc:432] Loaded cuDNN version 8903\n",
      "2023-08-14 13:31:57.297207: I tensorflow/tsl/platform/default/subprocess.cc:304] Start cannot spawn child process: No such file or directory\n",
      "2023-08-14 13:31:57.358940: I ./tensorflow/compiler/jit/device_compiler.h:186] Compiled cluster using XLA!  This line is logged at most once for the lifetime of the process.\n"
     ]
    },
    {
     "name": "stdout",
     "output_type": "stream",
     "text": [
      "   3298/Unknown - 9s 2ms/step - loss: 0.0139"
     ]
    },
    {
     "name": "stderr",
     "output_type": "stream",
     "text": [
      "2023-08-14 13:32:05.496810: I tensorflow/core/framework/local_rendezvous.cc:405] Local rendezvous recv item cancelled. Key hash: 6867102267835232283\n",
      "2023-08-14 13:32:05.496831: I tensorflow/core/framework/local_rendezvous.cc:405] Local rendezvous recv item cancelled. Key hash: 14081827691709263811\n",
      "2023-08-14 13:32:05.496839: I tensorflow/core/framework/local_rendezvous.cc:405] Local rendezvous recv item cancelled. Key hash: 2071195570720846224\n",
      "2023-08-14 13:32:05.496879: I tensorflow/core/framework/local_rendezvous.cc:405] Local rendezvous recv item cancelled. Key hash: 10549839945170897990\n"
     ]
    },
    {
     "name": "stdout",
     "output_type": "stream",
     "text": [
      "3298/3298 [==============================] - 9s 3ms/step - loss: 0.0139 - val_loss: 0.0035\n",
      "Epoch 2/128\n",
      "  61/3298 [..............................] - ETA: 5s - loss: 0.0017"
     ]
    },
    {
     "name": "stderr",
     "output_type": "stream",
     "text": [
      "2023-08-14 13:32:06.115716: I tensorflow/core/framework/local_rendezvous.cc:405] Local rendezvous recv item cancelled. Key hash: 6867102267835232283\n",
      "2023-08-14 13:32:06.115744: I tensorflow/core/framework/local_rendezvous.cc:405] Local rendezvous recv item cancelled. Key hash: 10549839945170897990\n"
     ]
    },
    {
     "name": "stdout",
     "output_type": "stream",
     "text": [
      "3298/3298 [==============================] - 7s 2ms/step - loss: 0.0011 - val_loss: 7.9457e-04\n",
      "Epoch 3/128\n",
      "3298/3298 [==============================] - 7s 2ms/step - loss: 9.2745e-04 - val_loss: 9.9630e-04\n",
      "Epoch 4/128\n",
      "3298/3298 [==============================] - 7s 2ms/step - loss: 8.6907e-04 - val_loss: 0.0012\n",
      "Epoch 5/128\n",
      "3298/3298 [==============================] - 7s 2ms/step - loss: 8.4153e-04 - val_loss: 9.0668e-04\n",
      "Epoch 6/128\n",
      "3298/3298 [==============================] - 7s 2ms/step - loss: 8.4370e-04 - val_loss: 6.6269e-04\n",
      "Epoch 7/128\n",
      "3298/3298 [==============================] - 8s 2ms/step - loss: 8.0540e-04 - val_loss: 6.6695e-04\n",
      "Epoch 8/128\n",
      "3298/3298 [==============================] - 7s 2ms/step - loss: 7.6582e-04 - val_loss: 7.4663e-04\n",
      "Epoch 9/128\n",
      "3298/3298 [==============================] - 7s 2ms/step - loss: 7.4694e-04 - val_loss: 7.1147e-04\n",
      "Epoch 10/128\n",
      "3298/3298 [==============================] - 8s 2ms/step - loss: 7.4231e-04 - val_loss: 6.2554e-04\n",
      "Epoch 11/128\n",
      "3298/3298 [==============================] - 8s 2ms/step - loss: 7.2305e-04 - val_loss: 0.0013\n",
      "Epoch 12/128\n",
      "3298/3298 [==============================] - 8s 2ms/step - loss: 7.1653e-04 - val_loss: 6.9402e-04\n",
      "Epoch 13/128\n",
      "3298/3298 [==============================] - 7s 2ms/step - loss: 7.1339e-04 - val_loss: 0.0014\n",
      "Epoch 14/128\n",
      "3298/3298 [==============================] - 7s 2ms/step - loss: 6.9797e-04 - val_loss: 7.4931e-04\n",
      "Epoch 15/128\n",
      "3298/3298 [==============================] - 7s 2ms/step - loss: 6.8877e-04 - val_loss: 9.1811e-04\n",
      "Epoch 16/128\n",
      "3298/3298 [==============================] - 8s 2ms/step - loss: 6.8362e-04 - val_loss: 6.2725e-04\n",
      "Epoch 17/128\n",
      "3298/3298 [==============================] - 7s 2ms/step - loss: 6.6968e-04 - val_loss: 5.5856e-04\n",
      "Epoch 18/128\n",
      "3298/3298 [==============================] - 7s 2ms/step - loss: 6.7204e-04 - val_loss: 5.8101e-04\n",
      "Epoch 19/128\n",
      "3298/3298 [==============================] - 8s 2ms/step - loss: 6.6495e-04 - val_loss: 8.4413e-04\n",
      "Epoch 20/128\n",
      "3298/3298 [==============================] - 8s 2ms/step - loss: 6.5742e-04 - val_loss: 5.6253e-04\n",
      "Epoch 21/128\n",
      "3298/3298 [==============================] - 7s 2ms/step - loss: 6.5261e-04 - val_loss: 5.5910e-04\n",
      "Epoch 22/128\n",
      "3298/3298 [==============================] - 8s 2ms/step - loss: 6.5910e-04 - val_loss: 6.2054e-04\n",
      "Epoch 23/128\n",
      "3298/3298 [==============================] - 8s 2ms/step - loss: 6.5203e-04 - val_loss: 6.2335e-04\n",
      "Epoch 24/128\n",
      "3298/3298 [==============================] - 8s 2ms/step - loss: 6.4674e-04 - val_loss: 6.5389e-04\n",
      "Epoch 25/128\n",
      "3298/3298 [==============================] - 8s 2ms/step - loss: 6.3903e-04 - val_loss: 5.4840e-04\n",
      "Epoch 26/128\n",
      "3298/3298 [==============================] - 7s 2ms/step - loss: 6.3059e-04 - val_loss: 0.0011\n",
      "Epoch 27/128\n",
      "3298/3298 [==============================] - 7s 2ms/step - loss: 6.3152e-04 - val_loss: 0.0011\n",
      "Epoch 28/128\n",
      "3298/3298 [==============================] - 7s 2ms/step - loss: 6.1568e-04 - val_loss: 6.1810e-04\n",
      "Epoch 29/128\n",
      "3298/3298 [==============================] - 7s 2ms/step - loss: 6.1250e-04 - val_loss: 7.5518e-04\n",
      "Epoch 30/128\n",
      "3298/3298 [==============================] - 8s 2ms/step - loss: 6.0577e-04 - val_loss: 5.8463e-04\n",
      "Epoch 31/128\n",
      "3298/3298 [==============================] - 7s 2ms/step - loss: 6.0619e-04 - val_loss: 8.1017e-04\n",
      "Epoch 32/128\n",
      "3298/3298 [==============================] - 8s 2ms/step - loss: 6.0852e-04 - val_loss: 5.9711e-04\n",
      "Epoch 33/128\n",
      "3298/3298 [==============================] - 7s 2ms/step - loss: 6.0070e-04 - val_loss: 5.9684e-04\n"
     ]
    },
    {
     "data": {
      "text/plain": [
       "<keras.src.callbacks.History at 0x7fa3f0206820>"
      ]
     },
     "execution_count": 12,
     "metadata": {},
     "output_type": "execute_result"
    }
   ],
   "source": [
    "model.compile('adam', loss='mean_squared_error')\n",
    "model.fit(train_loader, epochs=128, verbose=True, validation_data=valid_loader, callbacks=cbs)"
   ]
  },
  {
   "cell_type": "markdown",
   "id": "governmental-coordinator",
   "metadata": {},
   "source": [
    "Evaluate on the test set"
   ]
  },
  {
   "cell_type": "code",
   "execution_count": 13,
   "id": "interracial-sender",
   "metadata": {},
   "outputs": [
    {
     "name": "stdout",
     "output_type": "stream",
     "text": [
      "408/408 [==============================] - 1s 1ms/step - loss: 5.6418e-04\n"
     ]
    },
    {
     "name": "stderr",
     "output_type": "stream",
     "text": [
      "2023-08-14 13:36:05.621250: I tensorflow/core/framework/local_rendezvous.cc:405] Local rendezvous recv item cancelled. Key hash: 6867102267835232283\n",
      "2023-08-14 13:36:05.621277: I tensorflow/core/framework/local_rendezvous.cc:405] Local rendezvous recv item cancelled. Key hash: 14081827691709263811\n",
      "2023-08-14 13:36:05.621283: I tensorflow/core/framework/local_rendezvous.cc:405] Local rendezvous recv item cancelled. Key hash: 9636388161030482004\n",
      "2023-08-14 13:36:05.621290: I tensorflow/core/framework/local_rendezvous.cc:405] Local rendezvous recv item cancelled. Key hash: 10549839945170897990\n"
     ]
    }
   ],
   "source": [
    "test_loss = model.evaluate(test_loader)"
   ]
  },
  {
   "cell_type": "code",
   "execution_count": 14,
   "id": "anonymous-samuel",
   "metadata": {},
   "outputs": [],
   "source": [
    "results = [{'messages': 2, 'loss': test_loss}]"
   ]
  },
  {
   "cell_type": "markdown",
   "id": "compliant-detector",
   "metadata": {},
   "source": [
    "Repeat for other network sizes"
   ]
  },
  {
   "cell_type": "code",
   "execution_count": 15,
   "id": "confused-spectacular",
   "metadata": {},
   "outputs": [
    {
     "name": "stderr",
     "output_type": "stream",
     "text": [
      "  0%|                                                                                                                                                                                                                                                               | 0/4 [00:00<?, ?it/s]2023-08-14 13:36:11.070432: I tensorflow/core/framework/local_rendezvous.cc:405] Local rendezvous recv item cancelled. Key hash: 6867102267835232283\n",
      "2023-08-14 13:36:11.070455: I tensorflow/core/framework/local_rendezvous.cc:409] Local rendezvous send item cancelled. Key hash: 12333860793665026875\n",
      "2023-08-14 13:36:11.070461: I tensorflow/core/framework/local_rendezvous.cc:405] Local rendezvous recv item cancelled. Key hash: 10549839945170897990\n",
      "2023-08-14 13:36:11.070485: I tensorflow/core/framework/local_rendezvous.cc:409] Local rendezvous send item cancelled. Key hash: 5345492877019608458\n",
      "2023-08-14 13:36:11.070492: I tensorflow/core/framework/local_rendezvous.cc:405] Local rendezvous recv item cancelled. Key hash: 14081827691709263811\n",
      "2023-08-14 13:36:11.434879: I tensorflow/core/framework/local_rendezvous.cc:405] Local rendezvous recv item cancelled. Key hash: 6867102267835232283\n",
      "2023-08-14 13:36:11.434903: I tensorflow/core/framework/local_rendezvous.cc:405] Local rendezvous recv item cancelled. Key hash: 14081827691709263811\n",
      "2023-08-14 13:36:11.434911: I tensorflow/core/framework/local_rendezvous.cc:405] Local rendezvous recv item cancelled. Key hash: 10549839945170897990\n",
      "2023-08-14 13:38:09.442491: I tensorflow/core/framework/local_rendezvous.cc:405] Local rendezvous recv item cancelled. Key hash: 6867102267835232283\n",
      "2023-08-14 13:38:09.442511: I tensorflow/core/framework/local_rendezvous.cc:405] Local rendezvous recv item cancelled. Key hash: 14081827691709263811\n",
      "2023-08-14 13:38:09.442519: I tensorflow/core/framework/local_rendezvous.cc:405] Local rendezvous recv item cancelled. Key hash: 10549839945170897990\n",
      " 25%|█████████████████████████████████████████████████████████████▌                                                                                                                                                                                        | 1/4 [02:03<06:11, 123.81s/it]2023-08-14 13:38:16.120186: I tensorflow/core/framework/local_rendezvous.cc:405] Local rendezvous recv item cancelled. Key hash: 6867102267835232283\n",
      "2023-08-14 13:38:16.120213: I tensorflow/core/framework/local_rendezvous.cc:405] Local rendezvous recv item cancelled. Key hash: 14081827691709263811\n",
      "2023-08-14 13:38:16.120220: I tensorflow/core/framework/local_rendezvous.cc:405] Local rendezvous recv item cancelled. Key hash: 9636388161030482004\n",
      "2023-08-14 13:38:16.120228: I tensorflow/core/framework/local_rendezvous.cc:405] Local rendezvous recv item cancelled. Key hash: 10549839945170897990\n",
      "2023-08-14 13:38:16.581059: I tensorflow/core/framework/local_rendezvous.cc:405] Local rendezvous recv item cancelled. Key hash: 9636388161030482004\n",
      "2023-08-14 13:38:16.581089: I tensorflow/core/framework/local_rendezvous.cc:405] Local rendezvous recv item cancelled. Key hash: 10549839945170897990\n",
      "2023-08-14 13:42:49.335125: I tensorflow/core/framework/local_rendezvous.cc:405] Local rendezvous recv item cancelled. Key hash: 9636388161030482004\n",
      "2023-08-14 13:42:49.335156: I tensorflow/core/framework/local_rendezvous.cc:405] Local rendezvous recv item cancelled. Key hash: 10549839945170897990\n",
      " 50%|███████████████████████████████████████████████████████████████████████████████████████████████████████████████████████████                                                                                                                           | 2/4 [06:43<07:11, 215.62s/it]2023-08-14 13:42:57.222421: I tensorflow/core/framework/local_rendezvous.cc:405] Local rendezvous recv item cancelled. Key hash: 14081827691709263811\n",
      "2023-08-14 13:42:57.720624: I tensorflow/core/framework/local_rendezvous.cc:405] Local rendezvous recv item cancelled. Key hash: 6867102267835232283\n",
      "2023-08-14 13:42:57.720650: I tensorflow/core/framework/local_rendezvous.cc:405] Local rendezvous recv item cancelled. Key hash: 14081827691709263811\n",
      "2023-08-14 13:42:57.720658: I tensorflow/core/framework/local_rendezvous.cc:405] Local rendezvous recv item cancelled. Key hash: 9636388161030482004\n",
      "2023-08-14 13:42:57.720668: I tensorflow/core/framework/local_rendezvous.cc:405] Local rendezvous recv item cancelled. Key hash: 10549839945170897990\n",
      "2023-08-14 13:44:51.038006: I tensorflow/core/framework/local_rendezvous.cc:405] Local rendezvous recv item cancelled. Key hash: 6867102267835232283\n",
      "2023-08-14 13:44:51.038036: I tensorflow/core/framework/local_rendezvous.cc:405] Local rendezvous recv item cancelled. Key hash: 9636388161030482004\n",
      "2023-08-14 13:44:51.038048: I tensorflow/core/framework/local_rendezvous.cc:405] Local rendezvous recv item cancelled. Key hash: 10549839945170897990\n",
      " 75%|████████████████████████████████████████████████████████████████████████████████████████████████████████████████████████████████████████████████████████████████████████████████████████▌                                                             | 3/4 [08:45<02:52, 172.74s/it]2023-08-14 13:45:00.469330: I tensorflow/core/framework/local_rendezvous.cc:405] Local rendezvous recv item cancelled. Key hash: 10549839945170897990\n",
      "2023-08-14 13:45:01.043892: I tensorflow/core/framework/local_rendezvous.cc:405] Local rendezvous recv item cancelled. Key hash: 6867102267835232283\n",
      "2023-08-14 13:45:01.043923: I tensorflow/core/framework/local_rendezvous.cc:405] Local rendezvous recv item cancelled. Key hash: 14081827691709263811\n",
      "2023-08-14 13:45:01.043935: I tensorflow/core/framework/local_rendezvous.cc:405] Local rendezvous recv item cancelled. Key hash: 9636388161030482004\n",
      "2023-08-14 13:45:01.043944: I tensorflow/core/framework/local_rendezvous.cc:405] Local rendezvous recv item cancelled. Key hash: 2071195570720846224\n",
      "2023-08-14 13:45:01.043959: I tensorflow/core/framework/local_rendezvous.cc:405] Local rendezvous recv item cancelled. Key hash: 10549839945170897990\n",
      "2023-08-14 13:47:37.251713: I tensorflow/core/framework/local_rendezvous.cc:405] Local rendezvous recv item cancelled. Key hash: 6867102267835232283\n",
      "2023-08-14 13:47:37.251735: I tensorflow/core/framework/local_rendezvous.cc:405] Local rendezvous recv item cancelled. Key hash: 14081827691709263811\n",
      "2023-08-14 13:47:37.251741: I tensorflow/core/framework/local_rendezvous.cc:405] Local rendezvous recv item cancelled. Key hash: 9636388161030482004\n",
      "2023-08-14 13:47:37.251747: I tensorflow/core/framework/local_rendezvous.cc:405] Local rendezvous recv item cancelled. Key hash: 10549839945170897990\n",
      "100%|██████████████████████████████████████████████████████████████████████████████████████████████████████████████████████████████████████████████████████████████████████████████████████████████████████████████████████████████████████████████████████| 4/4 [11:31<00:00, 172.91s/it]\n"
     ]
    }
   ],
   "source": [
    "for n in tqdm([0, 1, 4, 8]):\n",
    "    # Make the model\n",
    "    model = make_model(64, n)\n",
    "    \n",
    "    # Set the scale later\n",
    "    scale = model.get_layer('scaling')\n",
    "    scale.mean = outputs.numpy().mean()\n",
    "    scale.std = outputs.numpy().std()\n",
    "    \n",
    "    # Train the model\n",
    "    model.compile('adam', loss='mean_squared_error')\n",
    "    model.fit(train_loader, epochs=128, verbose=False, validation_data=valid_loader, callbacks=cbs)\n",
    "    \n",
    "    # Score the model\n",
    "    results.append({\n",
    "        'messages': n,\n",
    "        'loss': model.evaluate(test_loader, verbose=False)\n",
    "    })"
   ]
  },
  {
   "cell_type": "markdown",
   "id": "rough-index",
   "metadata": {},
   "source": [
    "Plot the dependence on number of message passing layers"
   ]
  },
  {
   "cell_type": "code",
   "execution_count": 16,
   "id": "pediatric-vietnamese",
   "metadata": {},
   "outputs": [
    {
     "data": {
      "text/plain": [
       "Text(0, 0.5, 'Test loss')"
      ]
     },
     "execution_count": 16,
     "metadata": {},
     "output_type": "execute_result"
    },
    {
     "data": {
      "image/png": "[encoded data removed]",
      "text/plain": [
       "<Figure size 640x480 with 1 Axes>"
      ]
     },
     "metadata": {},
     "output_type": "display_data"
    }
   ],
   "source": [
    "fig, ax = plt.subplots()\n",
    "\n",
    "results = pd.DataFrame(results).sort_values('messages')\n",
    "\n",
    "ax.plot(results['messages'], results['loss'], '--o')\n",
    "\n",
    "ax.set_xlabel('Num Layers')\n",
    "ax.set_ylabel('Test loss')"
   ]
  },
  {
   "cell_type": "markdown",
   "id": "ancient-camera",
   "metadata": {},
   "source": [
    "The accuracy improves until 4 layers. Our model is not able to benefit from complexity above that."
   ]
  },
  {
   "cell_type": "markdown",
   "id": "urban-project",
   "metadata": {},
   "source": [
    "## Explore readout layers\n",
    "See how `u0` and `bandgap` require different readouts"
   ]
  },
  {
   "cell_type": "code",
   "execution_count": 17,
   "id": "close-punch",
   "metadata": {},
   "outputs": [
    {
     "name": "stderr",
     "output_type": "stream",
     "text": [
      "  0%|                                                                                                                                                                                                                                                               | 0/2 [00:00<?, ?it/s]/home/lward/miniconda3/envs/mpnn/lib/python3.8/site-packages/keras/src/engine/functional.py:639: UserWarning: Input dict contained keys ['n_atom', 'n_bond', 'bond_graph_indices'] which did not match any model input. They will be ignored by the model.\n",
      "  inputs = self._flatten_to_reference_inputs(inputs)\n",
      "2023-08-14 13:47:42.550001: I tensorflow/core/framework/local_rendezvous.cc:405] Local rendezvous recv item cancelled. Key hash: 6867102267835232283\n",
      "2023-08-14 13:47:42.550056: I tensorflow/core/framework/local_rendezvous.cc:405] Local rendezvous recv item cancelled. Key hash: 14081827691709263811\n",
      "2023-08-14 13:47:42.550069: I tensorflow/core/framework/local_rendezvous.cc:405] Local rendezvous recv item cancelled. Key hash: 9636388161030482004\n",
      "2023-08-14 13:47:42.550086: I tensorflow/core/framework/local_rendezvous.cc:405] Local rendezvous recv item cancelled. Key hash: 10549839945170897990\n",
      "2023-08-14 13:47:42.905834: I tensorflow/core/framework/local_rendezvous.cc:405] Local rendezvous recv item cancelled. Key hash: 10549839945170897990\n",
      "2023-08-14 13:47:42.905859: I tensorflow/core/framework/local_rendezvous.cc:405] Local rendezvous recv item cancelled. Key hash: 6867102267835232283\n",
      "2023-08-14 13:47:42.905871: I tensorflow/core/framework/local_rendezvous.cc:405] Local rendezvous recv item cancelled. Key hash: 14081827691709263811\n"
     ]
    },
    {
     "name": "stdout",
     "output_type": "stream",
     "text": [
      "204/204 [==============================] - 0s 992us/step\n"
     ]
    },
    {
     "name": "stderr",
     "output_type": "stream",
     "text": [
      "2023-08-14 13:49:37.777547: I tensorflow/core/framework/local_rendezvous.cc:405] Local rendezvous recv item cancelled. Key hash: 6867102267835232283\n",
      "2023-08-14 13:49:37.777578: I tensorflow/core/framework/local_rendezvous.cc:405] Local rendezvous recv item cancelled. Key hash: 9636388161030482004\n",
      "2023-08-14 13:49:37.777591: I tensorflow/core/framework/local_rendezvous.cc:405] Local rendezvous recv item cancelled. Key hash: 10549839945170897990\n",
      "2023-08-14 13:49:43.022453: I tensorflow/core/framework/local_rendezvous.cc:405] Local rendezvous recv item cancelled. Key hash: 6867102267835232283\n",
      "2023-08-14 13:49:43.022480: I tensorflow/core/framework/local_rendezvous.cc:405] Local rendezvous recv item cancelled. Key hash: 9636388161030482004\n",
      "2023-08-14 13:49:43.022516: I tensorflow/core/framework/local_rendezvous.cc:405] Local rendezvous recv item cancelled. Key hash: 10549839945170897990\n"
     ]
    },
    {
     "name": "stdout",
     "output_type": "stream",
     "text": [
      "204/204 [==============================] - 0s 948us/step\n"
     ]
    },
    {
     "name": "stderr",
     "output_type": "stream",
     "text": [
      "2023-08-14 13:53:20.991912: I tensorflow/core/framework/local_rendezvous.cc:405] Local rendezvous recv item cancelled. Key hash: 6867102267835232283\n",
      "2023-08-14 13:53:20.991935: I tensorflow/core/framework/local_rendezvous.cc:405] Local rendezvous recv item cancelled. Key hash: 14081827691709263811\n",
      "2023-08-14 13:53:20.991945: I tensorflow/core/framework/local_rendezvous.cc:405] Local rendezvous recv item cancelled. Key hash: 9636388161030482004\n",
      "2023-08-14 13:53:20.991958: I tensorflow/core/framework/local_rendezvous.cc:405] Local rendezvous recv item cancelled. Key hash: 10549839945170897990\n",
      " 50%|███████████████████████████████████████████████████████████████████████████████████████████████████████████████████████████                                                                                                                           | 1/2 [05:43<05:43, 343.65s/it]2023-08-14 13:53:27.012360: I tensorflow/core/framework/local_rendezvous.cc:405] Local rendezvous recv item cancelled. Key hash: 6867102267835232283\n",
      "2023-08-14 13:53:27.012387: I tensorflow/core/framework/local_rendezvous.cc:405] Local rendezvous recv item cancelled. Key hash: 14081827691709263811\n",
      "2023-08-14 13:53:27.012395: I tensorflow/core/framework/local_rendezvous.cc:405] Local rendezvous recv item cancelled. Key hash: 9636388161030482004\n",
      "2023-08-14 13:53:27.012403: I tensorflow/core/framework/local_rendezvous.cc:405] Local rendezvous recv item cancelled. Key hash: 10549839945170897990\n"
     ]
    },
    {
     "name": "stdout",
     "output_type": "stream",
     "text": [
      "204/204 [==============================] - 0s 953us/step\n"
     ]
    },
    {
     "name": "stderr",
     "output_type": "stream",
     "text": [
      "2023-08-14 14:00:31.528844: I tensorflow/core/framework/local_rendezvous.cc:405] Local rendezvous recv item cancelled. Key hash: 9636388161030482004\n",
      "2023-08-14 14:00:31.528871: I tensorflow/core/framework/local_rendezvous.cc:405] Local rendezvous recv item cancelled. Key hash: 10549839945170897990\n",
      "2023-08-14 14:00:36.629116: I tensorflow/core/framework/local_rendezvous.cc:405] Local rendezvous recv item cancelled. Key hash: 9636388161030482004\n",
      "2023-08-14 14:00:36.968887: I tensorflow/core/framework/local_rendezvous.cc:405] Local rendezvous recv item cancelled. Key hash: 6867102267835232283\n",
      "2023-08-14 14:00:36.968914: I tensorflow/core/framework/local_rendezvous.cc:405] Local rendezvous recv item cancelled. Key hash: 14081827691709263811\n",
      "2023-08-14 14:00:36.968920: I tensorflow/core/framework/local_rendezvous.cc:405] Local rendezvous recv item cancelled. Key hash: 9636388161030482004\n",
      "2023-08-14 14:00:36.968923: I tensorflow/core/framework/local_rendezvous.cc:405] Local rendezvous recv item cancelled. Key hash: 2071195570720846224\n",
      "2023-08-14 14:00:36.968928: I tensorflow/core/framework/local_rendezvous.cc:405] Local rendezvous recv item cancelled. Key hash: 10549839945170897990\n"
     ]
    },
    {
     "name": "stdout",
     "output_type": "stream",
     "text": [
      "204/204 [==============================] - 0s 969us/step\n"
     ]
    },
    {
     "name": "stderr",
     "output_type": "stream",
     "text": [
      "2023-08-14 14:03:45.861365: I tensorflow/core/framework/local_rendezvous.cc:405] Local rendezvous recv item cancelled. Key hash: 6867102267835232283\n",
      "2023-08-14 14:03:45.861391: I tensorflow/core/framework/local_rendezvous.cc:405] Local rendezvous recv item cancelled. Key hash: 14081827691709263811\n",
      "2023-08-14 14:03:45.861395: I tensorflow/core/framework/local_rendezvous.cc:405] Local rendezvous recv item cancelled. Key hash: 9636388161030482004\n",
      "2023-08-14 14:03:45.861401: I tensorflow/core/framework/local_rendezvous.cc:405] Local rendezvous recv item cancelled. Key hash: 10549839945170897990\n",
      "100%|██████████████████████████████████████████████████████████████████████████████████████████████████████████████████████████████████████████████████████████████████████████████████████████████████████████████████████████████████████████████████████| 2/2 [16:08<00:00, 484.26s/it]\n"
     ]
    }
   ],
   "source": [
    "results = []\n",
    "for prop in tqdm(['g4mp2_atom', 'bandgap']):\n",
    "    # Make the data loaders\n",
    "    train_loader = make_data_loader('datasets/train_data.proto', batch_size=64, shuffle_buffer=16384, output_property=prop)\n",
    "    valid_loader = make_data_loader('datasets/valid_data.proto', batch_size=64, output_property=prop)\n",
    "    test_loader = make_data_loader('datasets/test_data.proto', batch_size=64, output_property=prop)\n",
    "    \n",
    "    # Get the true values\n",
    "    y_true = np.concatenate([x[1] for x in test_loader])\n",
    "    \n",
    "    # Test different network designs\n",
    "    for r in ['sum', 'max']:\n",
    "        # Make the model\n",
    "        model = make_model(64, 4, r)\n",
    "\n",
    "        # Set the scale later\n",
    "        _, outputs = next(iter(train_loader))\n",
    "        scale = model.get_layer('scaling')\n",
    "        scale.mean = outputs.numpy().mean()\n",
    "        scale.std = outputs.numpy().std()\n",
    "\n",
    "        # Train the model\n",
    "        model.compile('adam', loss='mean_squared_error')\n",
    "        model.fit(train_loader, epochs=128, verbose=False, validation_data=valid_loader, callbacks=cbs)\n",
    "\n",
    "        # Score the model\n",
    "        results.append({\n",
    "            'property': prop,\n",
    "            'readout': r,\n",
    "            'y_true': y_true,\n",
    "            'y_pred': model.predict(test_loader)[:, 0]\n",
    "        })"
   ]
  },
  {
   "cell_type": "code",
   "execution_count": 18,
   "id": "certain-cement",
   "metadata": {},
   "outputs": [],
   "source": [
    "results = pd.DataFrame(results)"
   ]
  },
  {
   "cell_type": "markdown",
   "id": "silent-corrections",
   "metadata": {},
   "source": [
    "Plot the predicted versus actual"
   ]
  },
  {
   "cell_type": "code",
   "execution_count": 19,
   "id": "anonymous-domestic",
   "metadata": {},
   "outputs": [
    {
     "data": {
      "image/png": "[encoded data removed]",
      "text/plain": [
       "<Figure size 640x480 with 4 Axes>"
      ]
     },
     "metadata": {},
     "output_type": "display_data"
    }
   ],
   "source": [
    "fig, axxs = plt.subplots(2, 2, sharey='row')\n",
    "\n",
    "for (prop, group), axs in zip(results.groupby('property'), axxs):\n",
    "    for (readout, record), ax in zip(group.groupby('readout'), axs):\n",
    "        record = record.iloc[0]\n",
    "        ax.scatter(record['y_true'], record['y_pred'])\n",
    "        mae=np.abs(record['y_true'] - record['y_pred']).mean()\n",
    "        \n",
    "        # Make it pretty\n",
    "        ax.text(0.05, 0.75, f'{prop}: {readout}\\nMAE: {mae:.3f}', transform=ax.transAxes)\n",
    "        ax.set_xlim([np.concatenate(record[['y_true', 'y_pred']]).min(),\n",
    "                     np.concatenate(record[['y_true', 'y_pred']]).max()])\n",
    "        ax.set_ylim(ax.get_xlim())\n",
    "        \n",
    "        ax.plot(ax.get_xlim(), ax.get_xlim(), 'k--')\n",
    "        \n",
    "\n",
    "# Add some labels\n",
    "axxs[0, 0].set_title('Readout: Softmax')\n",
    "axxs[0, 1].set_title('Readout: Summation')\n",
    "\n",
    "axxs[0, 0].set_ylabel('Bandgap, True (Ha)')\n",
    "axxs[1, 0].set_ylabel('Energy, True (Ha)')\n",
    "\n",
    "for ax in axxs[1, :]:\n",
    "    ax.set_xlabel('ML Prediction (Ha)')\n",
    "   \n",
    "fig.tight_layout()"
   ]
  },
  {
   "cell_type": "code",
   "execution_count": 20,
   "id": "virgin-insulation",
   "metadata": {},
   "outputs": [],
   "source": [
    "results['mae'] = results.apply(lambda x: np.abs(x['y_pred'] - x['y_true']).mean(), axis=1)"
   ]
  },
  {
   "cell_type": "code",
   "execution_count": 22,
   "id": "rolled-translator",
   "metadata": {},
   "outputs": [
    {
     "data": {
      "text/html": [
       "<div>\n",
       "<style scoped>\n",
       "    .dataframe tbody tr th:only-of-type {\n",
       "        vertical-align: middle;\n",
       "    }\n",
       "\n",
       "    .dataframe tbody tr th {\n",
       "        vertical-align: top;\n",
       "    }\n",
       "\n",
       "    .dataframe thead th {\n",
       "        text-align: right;\n",
       "    }\n",
       "</style>\n",
       "<table border=\"1\" class=\"dataframe\">\n",
       "  <thead>\n",
       "    <tr style=\"text-align: right;\">\n",
       "      <th></th>\n",
       "      <th>property</th>\n",
       "      <th>readout</th>\n",
       "      <th>y_true</th>\n",
       "      <th>y_pred</th>\n",
       "      <th>mae</th>\n",
       "    </tr>\n",
       "  </thead>\n",
       "  <tbody>\n",
       "    <tr>\n",
       "      <th>0</th>\n",
       "      <td>g4mp2_atom</td>\n",
       "      <td>sum</td>\n",
       "      <td>[-2.5511, -2.979564, -2.437563, -2.980702, -3....</td>\n",
       "      <td>[-2.5550957, -2.9633243, -2.4467945, -2.994167...</td>\n",
       "      <td>0.018225</td>\n",
       "    </tr>\n",
       "    <tr>\n",
       "      <th>1</th>\n",
       "      <td>g4mp2_atom</td>\n",
       "      <td>max</td>\n",
       "      <td>[-2.5511, -2.979564, -2.437563, -2.980702, -3....</td>\n",
       "      <td>[-2.815916, -2.7887354, -2.4363513, -2.9310098...</td>\n",
       "      <td>0.101010</td>\n",
       "    </tr>\n",
       "    <tr>\n",
       "      <th>2</th>\n",
       "      <td>bandgap</td>\n",
       "      <td>sum</td>\n",
       "      <td>[0.2925, 0.2765, 0.1905, 0.2215, 0.3118, 0.266...</td>\n",
       "      <td>[0.29428595, 0.2581817, 0.17511022, 0.24133493...</td>\n",
       "      <td>0.012034</td>\n",
       "    </tr>\n",
       "    <tr>\n",
       "      <th>3</th>\n",
       "      <td>bandgap</td>\n",
       "      <td>max</td>\n",
       "      <td>[0.2925, 0.2765, 0.1905, 0.2215, 0.3118, 0.266...</td>\n",
       "      <td>[0.2911698, 0.26068956, 0.20165971, 0.22866017...</td>\n",
       "      <td>0.010270</td>\n",
       "    </tr>\n",
       "  </tbody>\n",
       "</table>\n",
       "</div>"
      ],
      "text/plain": [
       "     property readout                                             y_true  \\\n",
       "0  g4mp2_atom     sum  [-2.5511, -2.979564, -2.437563, -2.980702, -3....   \n",
       "1  g4mp2_atom     max  [-2.5511, -2.979564, -2.437563, -2.980702, -3....   \n",
       "2     bandgap     sum  [0.2925, 0.2765, 0.1905, 0.2215, 0.3118, 0.266...   \n",
       "3     bandgap     max  [0.2925, 0.2765, 0.1905, 0.2215, 0.3118, 0.266...   \n",
       "\n",
       "                                              y_pred       mae  \n",
       "0  [-2.5550957, -2.9633243, -2.4467945, -2.994167...  0.018225  \n",
       "1  [-2.815916, -2.7887354, -2.4363513, -2.9310098...  0.101010  \n",
       "2  [0.29428595, 0.2581817, 0.17511022, 0.24133493...  0.012034  \n",
       "3  [0.2911698, 0.26068956, 0.20165971, 0.22866017...  0.010270  "
      ]
     },
     "execution_count": 22,
     "metadata": {},
     "output_type": "execute_result"
    }
   ],
   "source": [
    "results"
   ]
  },
  {
   "cell_type": "code",
   "execution_count": null,
   "id": "46911b16-6359-456c-9a40-c8160819279d",
   "metadata": {},
   "outputs": [],
   "source": []
  }
 ],
 "metadata": {
  "kernelspec": {
   "display_name": "Python 3 (ipykernel)",
   "language": "python",
   "name": "python3"
  },
  "language_info": {
   "codemirror_mode": {
    "name": "ipython",
    "version": 3
   },
   "file_extension": ".py",
   "mimetype": "text/x-python",
   "name": "python",
   "nbconvert_exporter": "python",
   "pygments_lexer": "ipython3",
   "version": "3.8.16"
  }
 },
 "nbformat": 4,
 "nbformat_minor": 5
}
